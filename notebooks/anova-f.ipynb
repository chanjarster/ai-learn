{
 "cells": [
  {
   "cell_type": "code",
   "execution_count": 2,
   "source": [
    "import pandas as pd\n",
    "from statsmodels.formula.api import ols\n",
    "from statsmodels.stats.anova import anova_lm\n",
    "import scipy.stats as ss\n",
    "\n",
    "# 读取数据，d1对应于算法a，d2对应于算法b\n",
    "df = pd.read_csv(\"anova-f.csv\") #设置为你自己的文件路径\n",
    "d1 = df[df['algo'] == 'a']['ratio']\n",
    "d2 = df[df['algo'] == 'b']['ratio']"
   ],
   "outputs": [],
   "metadata": {}
  },
  {
   "cell_type": "markdown",
   "source": [
    "ss.normaltest 的原假设是数据符合正态分布，两次检验 P 值都是远远大于 0.05 的，所以原假设成立，这两者都符合正态分布。"
   ],
   "metadata": {}
  },
  {
   "cell_type": "code",
   "execution_count": 3,
   "source": [
    "# 检测两个水平的正态性\n",
    "print(ss.normaltest(d1))\n",
    "print(ss.normaltest(d2))"
   ],
   "outputs": [
    {
     "output_type": "stream",
     "name": "stdout",
     "text": [
      "NormaltestResult(statistic=0.16280747339563784, pvalue=0.9218214431590781)\n",
      "NormaltestResult(statistic=0.4189199849120419, pvalue=0.8110220857858036)\n"
     ]
    },
    {
     "output_type": "stream",
     "name": "stderr",
     "text": [
      "/Users/qianjia/workspace-blog/ai-learn/.venv/lib/python3.9/site-packages/scipy/stats/stats.py:1541: UserWarning: kurtosistest only valid for n>=20 ... continuing anyway, n=10\n",
      "  warnings.warn(\"kurtosistest only valid for n>=20 ... continuing \"\n"
     ]
    }
   ],
   "metadata": {}
  },
  {
   "cell_type": "markdown",
   "source": [
    "ss.levene 分析了两者的方差齐性，同样 P 值都是远远大于 0.05，因此符合方差齐的前提。"
   ],
   "metadata": {}
  },
  {
   "cell_type": "code",
   "execution_count": 4,
   "source": [
    "# 检测两个水平的方差齐性\n",
    "args = [d1, d2]\n",
    "print(ss.levene(*args))"
   ],
   "outputs": [
    {
     "output_type": "stream",
     "name": "stdout",
     "text": [
      "LeveneResult(statistic=0.7944827586206901, pvalue=0.38450823419725666)\n"
     ]
    }
   ],
   "metadata": {}
  },
  {
   "cell_type": "markdown",
   "source": [
    "ss.f_oneway 和 anova_lm 都可以进行 F 检验。ss.f_oneway 给出的结果比较简洁"
   ],
   "metadata": {}
  },
  {
   "cell_type": "code",
   "execution_count": 5,
   "source": [
    "# F检验的第一种方法\n",
    "print(ss.f_oneway(*args))"
   ],
   "outputs": [
    {
     "output_type": "stream",
     "name": "stdout",
     "text": [
      "F_onewayResult(statistic=0.19612590799031476, pvalue=0.663142430745588)\n"
     ]
    }
   ],
   "metadata": {}
  },
  {
   "cell_type": "markdown",
   "source": [
    "anova_lm 提供了更多的信息"
   ],
   "metadata": {}
  },
  {
   "cell_type": "code",
   "execution_count": 6,
   "source": [
    "# F检验的第二种方法\n",
    "model = ols('ratio ~ algo', df).fit()\n",
    "anovat = anova_lm(model)\n",
    "print(anovat)"
   ],
   "outputs": [
    {
     "output_type": "stream",
     "name": "stdout",
     "text": [
      "            df   sum_sq   mean_sq         F    PR(>F)\n",
      "algo       1.0  0.00018  0.000180  0.196126  0.663142\n",
      "Residual  18.0  0.01652  0.000918       NaN       NaN\n"
     ]
    }
   ],
   "metadata": {}
  }
 ],
 "metadata": {
  "orig_nbformat": 4,
  "language_info": {
   "name": "python",
   "version": "3.9.0",
   "mimetype": "text/x-python",
   "codemirror_mode": {
    "name": "ipython",
    "version": 3
   },
   "pygments_lexer": "ipython3",
   "nbconvert_exporter": "python",
   "file_extension": ".py"
  },
  "kernelspec": {
   "name": "python3",
   "display_name": "Python 3.9.0 64-bit ('.venv': venv)"
  },
  "interpreter": {
   "hash": "0d69a086a76f7e20863e6de2695623e8295efcfe999066b45114a493b12990cc"
  }
 },
 "nbformat": 4,
 "nbformat_minor": 2
}