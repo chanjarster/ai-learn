{
 "cells": [
  {
   "cell_type": "markdown",
   "source": [
    "# 极客时间 - 程序员基础数学课 - [第39课 - 线性回归(上)高斯消元](https://time.geekbang.org/column/article/86014)\n",
    "\n"
   ],
   "metadata": {}
  },
  {
   "cell_type": "markdown",
   "source": [
    "## 课后题\n",
    "\n",
    "```\n",
    "x1​ − 2*x2 ​+ x3 ​− 4*x4​ = 4\n",
    "x2​ − x3 ​+ x4 ​= −3\n",
    "x1​ + 3*x2 ​+ x4 = 1\n",
    "−7*x2 ​+ 3*x3 ​+ x4 ​= −3\n",
    "```"
   ],
   "metadata": {}
  },
  {
   "cell_type": "markdown",
   "source": [
    "## 消元"
   ],
   "metadata": {}
  },
  {
   "cell_type": "code",
   "execution_count": 133,
   "source": [
    "import numpy as np\n",
    "\n",
    "# 把方程组设定为增广矩阵\n",
    "A = np.array([\n",
    "    [1, -2,  1, -4,  4],\n",
    "    [0,  1, -1,  1, -3],\n",
    "    [1,  3,  0,  1,  1],\n",
    "    [0, -7,  3,  1, -3]\n",
    "])\n",
    "\n",
    "print(\"增广矩阵:\")\n",
    "print(A)"
   ],
   "outputs": [
    {
     "output_type": "stream",
     "name": "stdout",
     "text": [
      "增广矩阵:\n",
      "[[ 1 -2  1 -4  4]\n",
      " [ 0  1 -1  1 -3]\n",
      " [ 1  3  0  1  1]\n",
      " [ 0 -7  3  1 -3]]\n"
     ]
    }
   ],
   "metadata": {}
  },
  {
   "cell_type": "code",
   "execution_count": 134,
   "source": [
    "# 消除第3方程的x1\n",
    "E1 = np.array([\n",
    "    [ 1, 0, 0, 0],\n",
    "    [ 0, 1, 0, 0],\n",
    "    [-1, 0, 1, 0],\n",
    "    [ 0, 0, 0, 1],\n",
    "])\n",
    "\n",
    "A1 = E1 @ A\n",
    "print(\"消除第3方程的x1:\")\n",
    "print(A1)"
   ],
   "outputs": [
    {
     "output_type": "stream",
     "name": "stdout",
     "text": [
      "消除第3方程的x1:\n",
      "[[ 1 -2  1 -4  4]\n",
      " [ 0  1 -1  1 -3]\n",
      " [ 0  5 -1  5 -3]\n",
      " [ 0 -7  3  1 -3]]\n"
     ]
    }
   ],
   "metadata": {}
  },
  {
   "cell_type": "code",
   "execution_count": 135,
   "source": [
    "# 消除第3方程的x2\n",
    "E2 = np.array([\n",
    "    [ 1,  0, 0, 0],\n",
    "    [ 0,  1, 0, 0],\n",
    "    [ 0, -5, 1, 0],\n",
    "    [ 0,  0, 0, 1],\n",
    "])\n",
    "\n",
    "A2 = E2.dot(A1)\n",
    "print(\"消除第3方程的x1:\")\n",
    "print(A2)"
   ],
   "outputs": [
    {
     "output_type": "stream",
     "name": "stdout",
     "text": [
      "消除第3方程的x1:\n",
      "[[ 1 -2  1 -4  4]\n",
      " [ 0  1 -1  1 -3]\n",
      " [ 0  0  4  0 12]\n",
      " [ 0 -7  3  1 -3]]\n"
     ]
    }
   ],
   "metadata": {}
  },
  {
   "cell_type": "code",
   "execution_count": 136,
   "source": [
    "# 消除第4方程的x2\n",
    "E3 = np.array([\n",
    "    [ 1, 0, 0, 0],\n",
    "    [ 0, 1, 0, 0],\n",
    "    [ 0, 0, 1, 0],\n",
    "    [ 0, 7, 0, 1],\n",
    "])\n",
    "\n",
    "A3 = E3.dot(A2)\n",
    "print(\"消除第4方程的x2:\")\n",
    "print(A3)"
   ],
   "outputs": [
    {
     "output_type": "stream",
     "name": "stdout",
     "text": [
      "消除第4方程的x2:\n",
      "[[  1  -2   1  -4   4]\n",
      " [  0   1  -1   1  -3]\n",
      " [  0   0   4   0  12]\n",
      " [  0   0  -4   8 -24]]\n"
     ]
    }
   ],
   "metadata": {}
  },
  {
   "cell_type": "code",
   "execution_count": 137,
   "source": [
    "# 第3和第4方程互换形成上三角矩阵\n",
    "E4 = np.array([\n",
    "    [ 1, 0, 0, 0],\n",
    "    [ 0, 1, 0, 0],\n",
    "    [ 0, 0, 0, 1],\n",
    "    [ 0, 0, 1, 0],\n",
    "])\n",
    "\n",
    "A4 = E4.dot(A3)\n",
    "print(\"第3和第4方程互换形成上三角矩阵:\")\n",
    "print(A4)"
   ],
   "outputs": [
    {
     "output_type": "stream",
     "name": "stdout",
     "text": [
      "第3和第4方程互换形成上三角矩阵:\n",
      "[[  1  -2   1  -4   4]\n",
      " [  0   1  -1   1  -3]\n",
      " [  0   0  -4   8 -24]\n",
      " [  0   0   4   0  12]]\n"
     ]
    }
   ],
   "metadata": {}
  },
  {
   "cell_type": "code",
   "execution_count": 138,
   "source": [
    "# 消除第三方程的x3\n",
    "E5 = np.array([\n",
    "    [ 1, 0, 0, 0],\n",
    "    [ 0, 1, 0, 0],\n",
    "    [ 0, 0, 1, 0],\n",
    "    [ 0, 0, 1, 1],\n",
    "])\n",
    "\n",
    "A5 = E5.dot(A4)\n",
    "print(\"消除第4方程的x3:\")\n",
    "print(A5)"
   ],
   "outputs": [
    {
     "output_type": "stream",
     "name": "stdout",
     "text": [
      "消除第4方程的x3:\n",
      "[[  1  -2   1  -4   4]\n",
      " [  0   1  -1   1  -3]\n",
      " [  0   0  -4   8 -24]\n",
      " [  0   0   0   8 -12]]\n"
     ]
    }
   ],
   "metadata": {}
  },
  {
   "cell_type": "code",
   "execution_count": 139,
   "source": [
    "# 得到消元矩阵E\n",
    "E = E5 @ E4 @ E3 @ E2 @ E1\n",
    "print(\"得到消元矩阵E:\")\n",
    "print(E)\n",
    "\n",
    "# 直接运用消元矩阵E\n",
    "print(\"E 乘以 增广矩阵A 得到上三角矩阵:\")\n",
    "print(E @ A)"
   ],
   "outputs": [
    {
     "output_type": "stream",
     "name": "stdout",
     "text": [
      "得到消元矩阵E:\n",
      "[[ 1  0  0  0]\n",
      " [ 0  1  0  0]\n",
      " [ 0  7  0  1]\n",
      " [-1  2  1  1]]\n",
      "E 乘以 增广矩阵A 得到上三角矩阵:\n",
      "[[  1  -2   1  -4   4]\n",
      " [  0   1  -1   1  -3]\n",
      " [  0   0  -4   8 -24]\n",
      " [  0   0   0   8 -12]]\n"
     ]
    }
   ],
   "metadata": {}
  },
  {
   "cell_type": "markdown",
   "source": [
    "## 回代"
   ],
   "metadata": {}
  },
  {
   "cell_type": "code",
   "execution_count": 140,
   "source": [
    "# A5是最终的上三角矩阵\n",
    "print(\"A5是最终的上三角矩阵\")\n",
    "print(A5)\n",
    "\n",
    "# 把第4方程的x4系数除以8\n",
    "S1 = np.array([\n",
    "    [ 1, 0, 0, 0],\n",
    "    [ 0, 1, 0, 0],\n",
    "    [ 0, 0, 1, 0],\n",
    "    [ 0, 0, 0, 1/8],\n",
    "])\n",
    "B1 = S1 @ A5\n",
    "print(\"把第4方程的x4系数除以8\")\n",
    "print(B1)"
   ],
   "outputs": [
    {
     "output_type": "stream",
     "name": "stdout",
     "text": [
      "A5是最终的上三角矩阵\n",
      "[[  1  -2   1  -4   4]\n",
      " [  0   1  -1   1  -3]\n",
      " [  0   0  -4   8 -24]\n",
      " [  0   0   0   8 -12]]\n",
      "把第4方程的x4系数除以8\n",
      "[[  1.   -2.    1.   -4.    4. ]\n",
      " [  0.    1.   -1.    1.   -3. ]\n",
      " [  0.    0.   -4.    8.  -24. ]\n",
      " [  0.    0.    0.    1.   -1.5]]\n"
     ]
    }
   ],
   "metadata": {}
  },
  {
   "cell_type": "code",
   "execution_count": 148,
   "source": [
    "# 把第3方程的x3系数变为1，就是除以-4\n",
    "S2 = np.array([\n",
    "    [ 1, 0, 0, 0],\n",
    "    [ 0, 1, 0, 0],\n",
    "    [ 0, 0, -1/4, 0],\n",
    "    [ 0, 0, 0, 1],\n",
    "])\n",
    "B2 = S2 @ B1\n",
    "print(\"把第3方程的x3系数变为1，就是除以-4\")\n",
    "print(B2)"
   ],
   "outputs": [
    {
     "output_type": "stream",
     "name": "stdout",
     "text": [
      "把第3方程的x3系数变为1，就是除以-4\n",
      "[[ 1.  -2.   1.  -4.   4. ]\n",
      " [ 0.   1.  -1.   1.  -3. ]\n",
      " [ 0.   0.   1.  -2.   6. ]\n",
      " [ 0.   0.   0.   1.  -1.5]]\n",
      "把第3方程的x4减掉，就是第3方程 + (2 * 第4方程)\n",
      "[[ 1.  -2.   1.  -4.   4. ]\n",
      " [ 0.   1.  -1.   1.  -3. ]\n",
      " [ 0.   0.   1.   0.   3. ]\n",
      " [ 0.   0.   0.   1.  -1.5]]\n"
     ]
    }
   ],
   "metadata": {}
  },
  {
   "cell_type": "code",
   "execution_count": null,
   "source": [
    "# 把第3方程的x4减掉，就是第3方程 + (2 * 第4方程)\n",
    "S3 = np.array([\n",
    "    [ 1, 0, 0, 0],\n",
    "    [ 0, 1, 0, 0],\n",
    "    [ 0, 0, 1, 2],\n",
    "    [ 0, 0, 0, 1],\n",
    "])\n",
    "B3 = S3 @ B2\n",
    "print(\"把第3方程的x4减掉，就是第3方程 + (2 * 第4方程)\")\n",
    "print(B3)\n"
   ],
   "outputs": [],
   "metadata": {}
  },
  {
   "cell_type": "code",
   "execution_count": 142,
   "source": [
    "# 把第2方程的x3减掉，就是第2方程 + 第3方程\n",
    "# 把第2方程的x4减掉，就是第2方程 + (-1 * 第4方程)\n",
    "S4 = np.array([\n",
    "    [ 1, 0, 0, 0],\n",
    "    [ 0, 1, 1, -1],\n",
    "    [ 0, 0, 1, 0],\n",
    "    [ 0, 0, 0, 1],\n",
    "])\n",
    "B4 = S4 @ B3\n",
    "print(\"把第2方程的x3减掉，就是第2方程 + 第3方程\")\n",
    "print(\"把第2方程的x4减掉，就是第2方程 + (-1 * 第4方程)\")\n",
    "print(B4)"
   ],
   "outputs": [
    {
     "output_type": "stream",
     "name": "stdout",
     "text": [
      "把第2方程的x3减掉，就是第2方程 + 第3方程\n",
      "把第2方程的x4减掉，就是第2方程 + (-1 * 第4方程)\n",
      "[[ 1.  -2.   1.  -4.   4. ]\n",
      " [ 0.   1.   0.   0.   1.5]\n",
      " [ 0.   0.   1.   0.   3. ]\n",
      " [ 0.   0.   0.   1.  -1.5]]\n"
     ]
    }
   ],
   "metadata": {}
  },
  {
   "cell_type": "code",
   "execution_count": 143,
   "source": [
    "# 把第1方程的x2减掉，就是第1方程 + (2 * 第2方程)\n",
    "# 把第1方程的x3减掉，就是第1方程 + (-1 * 第3方程)\n",
    "# 把第1方程的x4减掉，就是第1方程 + (4 * 第4方程)\n",
    "S5 = np.array([\n",
    "    [ 1, 2, -1, 4],\n",
    "    [ 0, 1, 0, 0],\n",
    "    [ 0, 0, 1, 0],\n",
    "    [ 0, 0, 0, 1],\n",
    "])\n",
    "B5 = S5 @ B4\n",
    "print(\"把第1方程的x2减掉，就是第1方程 + (2 * 第2方程)\")\n",
    "print(\"把第1方程的x3减掉，就是第1方程 + (-1 * 第3方程)\")\n",
    "print(\"把第1方程的x4减掉，就是第1方程 + (4 * 第4方程)\")\n",
    "print(B5)\n",
    "\n",
    "print(\"可以看到增广矩阵A左侧已经变成单元矩阵了\")\n"
   ],
   "outputs": [
    {
     "output_type": "stream",
     "name": "stdout",
     "text": [
      "把第1方程的x2减掉，就是第1方程 + (2 * 第2方程)\n",
      "把第1方程的x3减掉，就是第1方程 + (-1 * 第3方程)\n",
      "把第1方程的x4减掉，就是第1方程 + (4 * 第4方程)\n",
      "[[ 1.   0.   0.   0.  -2. ]\n",
      " [ 0.   1.   0.   0.   1.5]\n",
      " [ 0.   0.   1.   0.   3. ]\n",
      " [ 0.   0.   0.   1.  -1.5]]\n",
      "可以看到增广矩阵A左侧已经变成单元矩阵了\n"
     ]
    }
   ],
   "metadata": {}
  },
  {
   "cell_type": "code",
   "execution_count": 144,
   "source": [
    "# 得到SE矩阵\n",
    "SE = S5 @ S4 @ S3 @ S2 @ S1 @ E\n",
    "print(\"SE矩阵:\")\n",
    "print(SE)\n",
    "\n",
    "# 系数矩阵\n",
    "X = np.delete(A, len(A[0])-1, axis=1)\n",
    "print(\"系数矩阵:\")\n",
    "print(X)\n",
    "\n",
    "# SE 乘以 系数矩阵\n",
    "print(\"SE 乘以 系数矩阵得到单位矩阵:\")\n",
    "print(SE @ X)\n",
    "\n",
    "# SE 乘以 A\n",
    "print(\"SE 乘以 增广矩阵A:\")\n",
    "print(SE @ A)"
   ],
   "outputs": [
    {
     "output_type": "stream",
     "name": "stdout",
     "text": [
      "SE矩阵:\n",
      "[[ 0.5    1.25   0.5    0.25 ]\n",
      " [-0.125 -0.5    0.125 -0.125]\n",
      " [-0.25  -1.25   0.25   0.   ]\n",
      " [-0.125  0.25   0.125  0.125]]\n",
      "系数矩阵:\n",
      "[[ 1 -2  1 -4]\n",
      " [ 0  1 -1  1]\n",
      " [ 1  3  0  1]\n",
      " [ 0 -7  3  1]]\n",
      "SE 乘以 系数矩阵得到单位矩阵:\n",
      "[[1. 0. 0. 0.]\n",
      " [0. 1. 0. 0.]\n",
      " [0. 0. 1. 0.]\n",
      " [0. 0. 0. 1.]]\n",
      "SE 乘以 增广矩阵A:\n",
      "[[ 1.   0.   0.   0.  -2. ]\n",
      " [ 0.   1.   0.   0.   1.5]\n",
      " [ 0.   0.   1.   0.   3. ]\n",
      " [ 0.   0.   0.   1.  -1.5]]\n"
     ]
    }
   ],
   "metadata": {}
  },
  {
   "cell_type": "code",
   "execution_count": 145,
   "source": [
    "# 得到的结果就是单元矩阵\n",
    "B=B5\n",
    "print(\"结果:\")\n",
    "print(\"x1 =\", B[0][4])\n",
    "print(\"x2 =\", B[1][4])\n",
    "print(\"x3 =\", B[2][4])\n",
    "print(\"x4 =\", B[3][4])"
   ],
   "outputs": [
    {
     "output_type": "stream",
     "name": "stdout",
     "text": [
      "结果:\n",
      "x1 = -2.0\n",
      "x2 = 1.5\n",
      "x3 = 3.0\n",
      "x4 = -1.5\n"
     ]
    }
   ],
   "metadata": {}
  }
 ],
 "metadata": {
  "orig_nbformat": 4,
  "language_info": {
   "name": "python",
   "version": "3.9.0",
   "mimetype": "text/x-python",
   "codemirror_mode": {
    "name": "ipython",
    "version": 3
   },
   "pygments_lexer": "ipython3",
   "nbconvert_exporter": "python",
   "file_extension": ".py"
  },
  "kernelspec": {
   "name": "python3",
   "display_name": "Python 3.9.0 64-bit ('.venv': venv)"
  },
  "interpreter": {
   "hash": "1a51613496dca5700e796d7338249185c778c41eb30ce5d14dfda6fd6a0b9605"
  }
 },
 "nbformat": 4,
 "nbformat_minor": 2
}