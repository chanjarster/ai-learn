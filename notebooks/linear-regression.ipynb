{
 "cells": [
  {
   "cell_type": "markdown",
   "metadata": {},
   "source": [
    "# 极客时间 - 程序员基础数学课 - [第41课 - 线性回归(下)](https://time.geekbang.org/column/article/86766)\n",
    "\n"
   ]
  },
  {
   "cell_type": "markdown",
   "metadata": {},
   "source": [
    "先不考虑截距的情况下计算："
   ]
  },
  {
   "cell_type": "code",
   "execution_count": 1,
   "metadata": {},
   "outputs": [
    {
     "name": "stdout",
     "output_type": "stream",
     "text": [
      "X矩阵的转置X'：\n",
      " [[ 0  1  2]\n",
      " [ 1 -1  8]]\n",
      "\n",
      "X'点乘X：\n",
      " [[ 5 15]\n",
      " [15 66]]\n",
      "\n",
      "X'X矩阵的逆\n",
      " [[ 0.62857143 -0.14285714]\n",
      " [-0.14285714  0.04761905]]\n",
      "\n",
      "X'X矩阵的逆点乘X'\n",
      " [[-0.14285714  0.77142857  0.11428571]\n",
      " [ 0.04761905 -0.19047619  0.0952381 ]]\n",
      "\n",
      "系数矩阵B：\n",
      " [[0.93828571]\n",
      " [1.4152381 ]]\n"
     ]
    }
   ],
   "source": [
    "from numpy import *\n",
    "\n",
    "x = mat([[0,1],[1,-1],[2,8]])\n",
    "y = mat([[1.4],[-0.48],[13.2]])\n",
    "\n",
    "# 分别求出矩阵X'、X'X、(X'X)的逆\n",
    "# 注意，这里的I表示逆矩阵而不是单位矩阵\n",
    "print(\"X矩阵的转置X'：\\n\", x.transpose())\n",
    "print(\"\\nX'点乘X：\\n\", x.transpose().dot(x))\n",
    "print(\"\\nX'X矩阵的逆\\n\", (x.transpose().dot(x)).I)\n",
    "\n",
    "print(\"\\nX'X矩阵的逆点乘X'\\n\", (x.transpose().dot(x)).I.dot(x.transpose()))\n",
    "print(\"\\n系数矩阵B：\\n\", (x.transpose().dot(x)).I.dot(x.transpose()).dot(y))"
   ]
  },
  {
   "cell_type": "markdown",
   "metadata": {},
   "source": [
    "使用 sklearn 库中的 LinearRegression().fit() 函数 "
   ]
  },
  {
   "cell_type": "code",
   "execution_count": 1,
   "metadata": {},
   "outputs": [
    {
     "name": "stdout",
     "output_type": "stream",
     "text": [
      "   x1  x2\n",
      "0   0   1\n",
      "1   1  -1\n",
      "2   2   8 0     1.40\n",
      "1    -0.48\n",
      "2    13.20\n",
      "Name: y, dtype: float64\n",
      "1.0\n",
      "-0.014545454545452863\n",
      "[0.94909091 1.41454545]\n"
     ]
    }
   ],
   "source": [
    "import pandas as pd\n",
    "from sklearn.linear_model import LinearRegression\n",
    "\n",
    "df = pd.read_csv(\"linear-regression.csv\")\n",
    "df_features = df.drop(['y'], axis=1)     #Dataframe中除了最后一列，其余列都是特征，或者说自变量\n",
    "df_targets = df['y']                     #Dataframe最后一列是目标变量，或者说因变量\n",
    "\n",
    "print(df_features, df_targets)\n",
    "#使用特征和目标数据，拟合线性回归模型\n",
    "regression = LinearRegression().fit(df_features, df_targets)\n",
    "#拟合程度的好坏\n",
    "print(regression.score(df_features, df_targets))\n",
    "#截距\n",
    "print(regression.intercept_)\n",
    "#各个特征所对应的系数\n",
    "print(regression.coef_)"
   ]
  },
  {
   "cell_type": "markdown",
   "metadata": {},
   "source": [
    "在最终的结果中，1.0 表示拟合程度非常好，而 -0.014545454545452863 表示一个截距，[0.94909091 1.41454545]表示系数 b1​ 和 b2​ 的值。这个结果和我们最小二乘法的结果有所差别，主要原因是 LinearRegression().fit() 默认考虑了有线性函数存在截距的情况。那么我们使用最小二乘法是不是也可以考虑有截距的情况呢？答案是肯定的，不过我们首先要略微修改一下方程组和矩阵 X。如果我们假设有截距存在，那么线性回归方程就要改写为："
   ]
  },
  {
   "cell_type": "code",
   "execution_count": 2,
   "metadata": {},
   "outputs": [
    {
     "name": "stdout",
     "output_type": "stream",
     "text": [
      "\n",
      "系数矩阵B：\n",
      " [[-0.01454545]\n",
      " [ 0.94909091]\n",
      " [ 1.41454545]]\n"
     ]
    }
   ],
   "source": [
    "from numpy import *\n",
    "\n",
    "x = mat([[1,0,1],[1,1,-1],[1,2,8]])\n",
    "y = mat([[1.4],[-0.48],[13.2]])\n",
    "\n",
    "print(\"\\n系数矩阵B：\\n\", (x.transpose().dot(x)).I.dot(x.transpose()).dot(y))"
   ]
  },
  {
   "cell_type": "markdown",
   "metadata": {},
   "source": [
    "这个结果和 LinearRegression().fit() 的结果就一致了。"
   ]
  }
 ],
 "metadata": {
  "interpreter": {
   "hash": "0d69a086a76f7e20863e6de2695623e8295efcfe999066b45114a493b12990cc"
  },
  "kernelspec": {
   "display_name": "Python 3.9.7 64-bit ('.venv': venv)",
   "name": "python3"
  },
  "language_info": {
   "codemirror_mode": {
    "name": "ipython",
    "version": 3
   },
   "file_extension": ".py",
   "mimetype": "text/x-python",
   "name": "python",
   "nbconvert_exporter": "python",
   "pygments_lexer": "ipython3",
   "version": "3.9.7"
  },
  "orig_nbformat": 4
 },
 "nbformat": 4,
 "nbformat_minor": 2
}
