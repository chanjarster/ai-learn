{
 "cells": [
  {
   "cell_type": "markdown",
   "source": [
    "# 极客时间 - 程序员基础数学课 - [第38课 - 矩阵(下)协同过滤](https://time.geekbang.org/column/article/85562)\n",
    "\n"
   ],
   "metadata": {}
  },
  {
   "cell_type": "markdown",
   "source": [
    "## 基于用户的协同过滤"
   ],
   "metadata": {}
  },
  {
   "cell_type": "code",
   "execution_count": 1,
   "source": [
    "import numpy as np\n",
    "\n",
    "# 用户 - 物品 喜好程度\n",
    "X = np.array([\n",
    "    [0.11, 0.20, 0.0],\n",
    "    [0.81, 0.0, 0.0],\n",
    "    [0.0, 0.88, 0.74],\n",
    "    [0.0, 0.0, 0.42],\n",
    "])\n",
    "\n",
    "i = X.shape[0]\n",
    "j = X.shape[1]\n",
    "\n",
    "# X的转置矩阵X‘\n",
    "Xt = X.transpose()\n",
    "\n",
    "print(\"X矩阵:\")\n",
    "print(X)\n",
    "\n",
    "print(\"X转置矩阵X':\")\n",
    "print(Xt)"
   ],
   "outputs": [
    {
     "output_type": "stream",
     "name": "stdout",
     "text": [
      "X矩阵:\n",
      "[[0.11 0.2  0.  ]\n",
      " [0.81 0.   0.  ]\n",
      " [0.   0.88 0.74]\n",
      " [0.   0.   0.42]]\n",
      "X转置矩阵X':\n",
      "[[0.11 0.81 0.   0.  ]\n",
      " [0.2  0.   0.88 0.  ]\n",
      " [0.   0.   0.74 0.42]]\n"
     ]
    }
   ],
   "metadata": {}
  },
  {
   "cell_type": "code",
   "execution_count": 2,
   "source": [
    "# 得到 X 乘以 X'的结果\n",
    "T = X.dot(Xt)\n",
    "\n",
    "print(\"XX':\")\n",
    "print(T)"
   ],
   "outputs": [
    {
     "output_type": "stream",
     "name": "stdout",
     "text": [
      "XX':\n",
      "[[0.0521 0.0891 0.176  0.    ]\n",
      " [0.0891 0.6561 0.     0.    ]\n",
      " [0.176  0.     1.322  0.3108]\n",
      " [0.     0.     0.3108 0.1764]]\n"
     ]
    }
   ],
   "metadata": {}
  },
  {
   "cell_type": "code",
   "execution_count": 3,
   "source": [
    "# 计算US，用户相似度矩阵\n",
    "US = np.zeros((i, i))\n",
    "\n",
    "for i1 in range(len(US)):\n",
    "  for i2 in range(len(US[i1])):\n",
    "    US[i1][i2] = T[i1][i2] / (np.sqrt(T[i1][i1] * T[i2][i2]))\n",
    "\n",
    "print(\"US用户相似度矩阵:\")\n",
    "print(US)"
   ],
   "outputs": [
    {
     "output_type": "stream",
     "name": "stdout",
     "text": [
      "US用户相似度矩阵:\n",
      "[[1.         0.48191875 0.67062244 0.        ]\n",
      " [0.48191875 1.         0.         0.        ]\n",
      " [0.67062244 0.         1.         0.64359994]\n",
      " [0.         0.         0.64359994 1.        ]]\n"
     ]
    }
   ],
   "metadata": {}
  },
  {
   "cell_type": "code",
   "execution_count": 4,
   "source": [
    "# 计算USP\n",
    "USP = US.dot(X)\n",
    "\n",
    "print(\"USP:\")\n",
    "print(USP)\n",
    "\n",
    "# 计算USR，为了把USP归一化\n",
    "\n",
    "# 把US根据行求和\n",
    "rowSum = US.sum(axis=1)\n",
    "\n",
    "print(rowSum)\n",
    "\n",
    "USR = np.zeros(USP.shape)\n",
    "\n",
    "for ii in range(len(USR)):\n",
    "    USR[ii] = rowSum[ii]\n",
    "\n",
    "print(\"USR:\")\n",
    "print(USR)"
   ],
   "outputs": [
    {
     "output_type": "stream",
     "name": "stdout",
     "text": [
      "USP:\n",
      "[[0.50035419 0.79014774 0.4962606 ]\n",
      " [0.86301106 0.09638375 0.        ]\n",
      " [0.07376847 1.01412449 1.01031197]\n",
      " [0.         0.56636794 0.89626395]]\n",
      "[2.15254119 1.48191875 2.31422237 1.64359994]\n",
      "USR:\n",
      "[[2.15254119 2.15254119 2.15254119]\n",
      " [1.48191875 1.48191875 1.48191875]\n",
      " [2.31422237 2.31422237 2.31422237]\n",
      " [1.64359994 1.64359994 1.64359994]]\n"
     ]
    }
   ],
   "metadata": {}
  },
  {
   "cell_type": "code",
   "execution_count": 5,
   "source": [
    "# 计算 P = USP/USR\n",
    "\n",
    "P = USP / USR\n",
    "print(\"P=USP/USR\")\n",
    "print(P)"
   ],
   "outputs": [
    {
     "output_type": "stream",
     "name": "stdout",
     "text": [
      "P=USP/USR\n",
      "[[0.23244814 0.36707671 0.23054639]\n",
      " [0.58236058 0.06503983 0.        ]\n",
      " [0.03187614 0.43821393 0.43656651]\n",
      " [0.         0.3445899  0.54530542]]\n"
     ]
    }
   ],
   "metadata": {}
  },
  {
   "cell_type": "markdown",
   "source": [
    "## 基于物品的协同过滤"
   ],
   "metadata": {}
  },
  {
   "cell_type": "code",
   "execution_count": 6,
   "source": [
    "import numpy as np\n",
    "\n",
    "# 用户 - 物品 喜好程度\n",
    "X = np.array([\n",
    "    [0.11,0.20,0.0],\n",
    "    [0.81,0.0,0.0],\n",
    "    [0.0,0.88,0.74],\n",
    "    [0.0,0.0,0.42],\n",
    "])\n",
    "\n",
    "i = X.shape[0]\n",
    "j = X.shape[1]\n",
    "\n",
    "# X的转置矩阵X‘\n",
    "Xt = X.transpose()\n",
    "\n",
    "print(\"X矩阵:\")\n",
    "print(X)\n",
    "\n",
    "print(\"X转置矩阵X':\")\n",
    "print(Xt)\n"
   ],
   "outputs": [
    {
     "output_type": "stream",
     "name": "stdout",
     "text": [
      "X矩阵:\n",
      "[[0.11 0.2  0.  ]\n",
      " [0.81 0.   0.  ]\n",
      " [0.   0.88 0.74]\n",
      " [0.   0.   0.42]]\n",
      "X转置矩阵X':\n",
      "[[0.11 0.81 0.   0.  ]\n",
      " [0.2  0.   0.88 0.  ]\n",
      " [0.   0.   0.74 0.42]]\n"
     ]
    }
   ],
   "metadata": {}
  },
  {
   "cell_type": "code",
   "execution_count": 7,
   "source": [
    "# 得到 X‘ 乘以 X的结果\n",
    "T = Xt.dot(X)\n",
    "\n",
    "print(\"X'X:\")\n",
    "print(T)"
   ],
   "outputs": [
    {
     "output_type": "stream",
     "name": "stdout",
     "text": [
      "X'X:\n",
      "[[0.6682 0.022  0.    ]\n",
      " [0.022  0.8144 0.6512]\n",
      " [0.     0.6512 0.724 ]]\n"
     ]
    }
   ],
   "metadata": {}
  },
  {
   "cell_type": "code",
   "execution_count": 8,
   "source": [
    "# 计算IS，物品相似度矩阵\n",
    "IS = np.zeros((j, j))\n",
    "\n",
    "for j1 in range(len(IS)):\n",
    "  for j2 in range(len(IS[j1])):\n",
    "    IS[j1][j2] = T[j1][j2] / (np.sqrt(T[j1][j1] * T[j2][j2]))\n",
    "\n",
    "print(\"IS物品相似度矩阵:\")\n",
    "print(IS)"
   ],
   "outputs": [
    {
     "output_type": "stream",
     "name": "stdout",
     "text": [
      "IS物品相似度矩阵:\n",
      "[[1.         0.02982295 0.        ]\n",
      " [0.02982295 1.         0.84805931]\n",
      " [0.         0.84805931 1.        ]]\n"
     ]
    }
   ],
   "metadata": {}
  },
  {
   "cell_type": "code",
   "execution_count": 9,
   "source": [
    "# 计算ISP，用户对物品K的喜好程度\n",
    "ISP = X.dot(IS)\n",
    "\n",
    "print(\"ISP:\")\n",
    "print(ISP)\n",
    "\n",
    "# 计算ISR，为了把ISP归一化\n",
    "\n",
    "# 把IS根据列求和\n",
    "colSum = IS.sum(axis=0)\n",
    "\n",
    "print(rowSum)\n",
    "\n",
    "ISR = np.zeros(ISP.shape)\n",
    "\n",
    "for ii in range(len(ISR)):\n",
    "    ISR[ii] = colSum\n",
    "\n",
    "print(\"ISR:\")\n",
    "print(ISR)"
   ],
   "outputs": [
    {
     "output_type": "stream",
     "name": "stdout",
     "text": [
      "ISP:\n",
      "[[0.11596459 0.20328052 0.16961186]\n",
      " [0.81       0.02415659 0.        ]\n",
      " [0.02624419 1.50756389 1.48629219]\n",
      " [0.         0.35618491 0.42      ]]\n",
      "[2.15254119 1.48191875 2.31422237 1.64359994]\n",
      "ISR:\n",
      "[[1.02982295 1.87788226 1.84805931]\n",
      " [1.02982295 1.87788226 1.84805931]\n",
      " [1.02982295 1.87788226 1.84805931]\n",
      " [1.02982295 1.87788226 1.84805931]]\n"
     ]
    }
   ],
   "metadata": {}
  },
  {
   "cell_type": "code",
   "execution_count": 10,
   "source": [
    "# 计算 P = ISP / ISR\n",
    "P = ISP / ISR\n",
    "\n",
    "print(\"P=ISP/ISR:\")\n",
    "print(P)"
   ],
   "outputs": [
    {
     "output_type": "stream",
     "name": "stdout",
     "text": [
      "P=ISP/ISR:\n",
      "[[0.11260634 0.10824988 0.09177837]\n",
      " [0.78654297 0.01286374 0.        ]\n",
      " [0.02548418 0.80280001 0.80424486]\n",
      " [0.         0.18967372 0.22726543]]\n"
     ]
    }
   ],
   "metadata": {}
  }
 ],
 "metadata": {
  "orig_nbformat": 4,
  "language_info": {
   "name": "python",
   "version": "3.9.0",
   "mimetype": "text/x-python",
   "codemirror_mode": {
    "name": "ipython",
    "version": 3
   },
   "pygments_lexer": "ipython3",
   "nbconvert_exporter": "python",
   "file_extension": ".py"
  },
  "kernelspec": {
   "name": "python3",
   "display_name": "Python 3.9.0 64-bit ('.venv': venv)"
  },
  "interpreter": {
   "hash": "0d69a086a76f7e20863e6de2695623e8295efcfe999066b45114a493b12990cc"
  }
 },
 "nbformat": 4,
 "nbformat_minor": 2
}