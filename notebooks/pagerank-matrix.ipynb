{
 "cells": [
  {
   "cell_type": "markdown",
   "source": [
    "# 极客时间 - 程序员基础数学课 - [第37课 - 矩阵计算PageRank](https://time.geekbang.org/column/article/85194)"
   ],
   "metadata": {}
  },
  {
   "cell_type": "markdown",
   "source": [
    "首先，我使用 sklearn 库中的 CountVectorizer，对一个测试的文档集合构建特征，也就是词典。这个测试集合有 7 句话，2 句关于篮球，2 句关于电影，还有 3 句关于游戏。具体代码如下："
   ],
   "metadata": {}
  },
  {
   "cell_type": "code",
   "execution_count": 7,
   "source": [
    "import numpy as np\n",
    "\n",
    "# 设置确定随机跳转概率的alpha、网页结点数\n",
    "alpha = 0.9\n",
    "N = 5\n",
    "\n",
    "# 初始化随机跳转概率的矩阵\n",
    "jump = np.full([2,1], [[alpha], [1-alpha]], dtype=float)\n",
    "\n",
    "print(\"随机跳转概率: \")\n",
    "print(jump)\n",
    "\n",
    "# 邻接矩阵的构建\n",
    "adj = np.full([N,N], [[0,0,1,0,0],[1,0,1,0,0],[1,0,0,0,0],[0,0,0,0,0],[0,1,0,0,0]], dtype=float)\n",
    "\n",
    "print(\"邻接矩阵: \")\n",
    "print(adj)\n",
    "\n",
    "# 对邻接矩阵进行归一化\n",
    "row_sums = adj.sum(axis=1)      # 对每一行求和\n",
    "print(\"row_sums: \")\n",
    "print(row_sums)\n",
    "\n",
    "row_sums[row_sums == 0] = 0.1   # 防止由于分母出现0而导致的Nan\n",
    "print(\"row_sums处理0->0.1: \")\n",
    "print(row_sums)\n",
    "\n",
    "print(\"row_sums[:, np.newaxis]: \")\n",
    "print(row_sums[:, np.newaxis])\n",
    "\n",
    "adj = adj / row_sums[:, np.newaxis] # 除以每行之和的归一化\n",
    "print(\"邻接矩阵： \")\n",
    "print(adj)\n",
    "\n",
    "# 初始的PageRank值，通常是设置所有值为1.0\n",
    "pr = np.full([1,N], 1, dtype=float)\n",
    "print(\"初始PR：\")\n",
    "print(pr)"
   ],
   "outputs": [
    {
     "output_type": "stream",
     "name": "stdout",
     "text": [
      "随机跳转概率: \n",
      "[[0.9]\n",
      " [0.1]]\n",
      "邻接矩阵: \n",
      "[[0. 0. 1. 0. 0.]\n",
      " [1. 0. 1. 0. 0.]\n",
      " [1. 0. 0. 0. 0.]\n",
      " [0. 0. 0. 0. 0.]\n",
      " [0. 1. 0. 0. 0.]]\n",
      "row_sums: \n",
      "[1. 2. 1. 0. 1.]\n",
      "row_sums处理0->0.1: \n",
      "[1.  2.  1.  0.1 1. ]\n",
      "row_sums[:, np.newaxis]: \n",
      "[[1. ]\n",
      " [2. ]\n",
      " [1. ]\n",
      " [0.1]\n",
      " [1. ]]\n",
      "邻接矩阵： \n",
      "[[0.  0.  1.  0.  0. ]\n",
      " [0.5 0.  0.5 0.  0. ]\n",
      " [1.  0.  0.  0.  0. ]\n",
      " [0.  0.  0.  0.  0. ]\n",
      " [0.  1.  0.  0.  0. ]]\n",
      "初始PR：\n",
      "[[1. 1. 1. 1. 1.]]\n"
     ]
    }
   ],
   "metadata": {}
  },
  {
   "cell_type": "markdown",
   "source": [
    "之后，我们就能采用迭代法来计算 PageRank 值。一般我们通过比较每个结点最近两次计算的值是否足够接近，来确定数值是不是已经稳定，以及是不是需要结束迭代。这里为简便起见，我使用了固定次数的循环来实现。如果你的拓扑图比较复杂，需要更多次迭代："
   ],
   "metadata": {}
  },
  {
   "cell_type": "code",
   "execution_count": 8,
   "source": [
    "# PageRank算法本身是采用迭代方式进行的，当最终的取值趋于稳定后结束。\n",
    "for i in range(0, 20):\n",
    "\n",
    "    # 进行点乘，计算Σ(PR(pj)/L(pj))\n",
    "    pr = pr.dot(adj)\n",
    "\n",
    "    # 转置保存Σ(PR(pj)/L(pj))结果的矩阵，并增加长度为N的列向量，其中每个元素的值为1/N，便于下一步的点乘。\n",
    "    pr_jump = np.full([N, 2], [[0, 1/N]])\n",
    "    # print(\"pr_jump:\")\n",
    "    # print(pr_jump)\n",
    "    \n",
    "    # 把 “所有行” 的 “第一列” 赋值为 初始 PR\n",
    "    # 所以这里PR要从行转置成列\n",
    "    pr_jump[:,:-1] = pr.transpose()\n",
    "    # print(\"pr_jump:\")\n",
    "    # print(pr_jump)\n",
    "    \n",
    "    # 进行点乘，计算α(Σ(PR(pj)/L(pj))) + (1-α)/N)\n",
    "    pr = pr_jump.dot(jump)\n",
    "    # 在本例子中，是 [5,2]的矩阵 x [2,1]的矩阵，结果是 [5, 1] 的矩阵\n",
    "    # 所以要对结果做转置\n",
    "    # print(\"pr:\")\n",
    "    # print(pr)\n",
    "\n",
    "    # 归一化PageRank得分\n",
    "    pr = pr.transpose()\n",
    "    pr = pr / pr.sum()\n",
    "\n",
    "    print(\"round\", i + 1, pr)"
   ],
   "outputs": [
    {
     "output_type": "stream",
     "name": "stdout",
     "text": [
      "round 1 [[0.37027027 0.24864865 0.37027027 0.00540541 0.00540541]]\n",
      "round 2 [[0.46740902 0.02498642 0.46740902 0.02009777 0.02009777]]\n",
      "round 3 [[0.46023676 0.03878962 0.46023676 0.02036842 0.02036842]]\n",
      "round 4 [[0.46010283 0.03904738 0.46010283 0.02037348 0.02037348]]\n",
      "round 5 [[0.46010033 0.0390522  0.46010033 0.02037357 0.02037357]]\n",
      "round 6 [[0.46010028 0.03905229 0.46010028 0.02037357 0.02037357]]\n",
      "round 7 [[0.46010028 0.03905229 0.46010028 0.02037357 0.02037357]]\n",
      "round 8 [[0.46010028 0.03905229 0.46010028 0.02037357 0.02037357]]\n",
      "round 9 [[0.46010028 0.03905229 0.46010028 0.02037357 0.02037357]]\n",
      "round 10 [[0.46010028 0.03905229 0.46010028 0.02037357 0.02037357]]\n",
      "round 11 [[0.46010028 0.03905229 0.46010028 0.02037357 0.02037357]]\n",
      "round 12 [[0.46010028 0.03905229 0.46010028 0.02037357 0.02037357]]\n",
      "round 13 [[0.46010028 0.03905229 0.46010028 0.02037357 0.02037357]]\n",
      "round 14 [[0.46010028 0.03905229 0.46010028 0.02037357 0.02037357]]\n",
      "round 15 [[0.46010028 0.03905229 0.46010028 0.02037357 0.02037357]]\n",
      "round 16 [[0.46010028 0.03905229 0.46010028 0.02037357 0.02037357]]\n",
      "round 17 [[0.46010028 0.03905229 0.46010028 0.02037357 0.02037357]]\n",
      "round 18 [[0.46010028 0.03905229 0.46010028 0.02037357 0.02037357]]\n",
      "round 19 [[0.46010028 0.03905229 0.46010028 0.02037357 0.02037357]]\n",
      "round 20 [[0.46010028 0.03905229 0.46010028 0.02037357 0.02037357]]\n"
     ]
    }
   ],
   "metadata": {}
  }
 ],
 "metadata": {
  "orig_nbformat": 4,
  "language_info": {
   "name": "python",
   "version": "3.9.0",
   "mimetype": "text/x-python",
   "codemirror_mode": {
    "name": "ipython",
    "version": 3
   },
   "pygments_lexer": "ipython3",
   "nbconvert_exporter": "python",
   "file_extension": ".py"
  },
  "kernelspec": {
   "name": "python3",
   "display_name": "Python 3.9.0 64-bit ('.venv': venv)"
  },
  "interpreter": {
   "hash": "0d69a086a76f7e20863e6de2695623e8295efcfe999066b45114a493b12990cc"
  }
 },
 "nbformat": 4,
 "nbformat_minor": 2
}