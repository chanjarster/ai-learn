{
 "cells": [
  {
   "cell_type": "markdown",
   "metadata": {},
   "source": [
    "# 极客时间 - 程序员基础数学课 - [第42课 - PCA主成因分析(上)](https://time.geekbang.org/column/article/87097)\n",
    "\n"
   ]
  },
  {
   "cell_type": "markdown",
   "metadata": {},
   "source": [
    "## 课后题\n",
    "\n",
    "```\n",
    "1  3  -7\n",
    "2  5  -14\n",
    "-3 -7 2\n",
    "```\n",
    "\n",
    "假设这个矩阵的每一列表示一个特征的维度，每一行表示一个样本。请完成：\n",
    "\n",
    "1. 按照列（也就是同一个特征维度）进行标准化。\n",
    "2. 生成这个矩阵的协方差矩阵。"
   ]
  },
  {
   "cell_type": "markdown",
   "metadata": {},
   "source": [
    "## 自己解题"
   ]
  },
  {
   "cell_type": "code",
   "execution_count": 1,
   "metadata": {},
   "outputs": [
    {
     "name": "stdout",
     "output_type": "stream",
     "text": [
      "[[  1.   3.  -7.]\n",
      " [  2.   5. -14.]\n",
      " [ -3.  -7.   2.]]\n"
     ]
    }
   ],
   "source": [
    "import numpy as np\n",
    "\n",
    "# 把方程组设定为增广矩阵\n",
    "A = np.array([\n",
    "    [1, 3,  -7],\n",
    "    [2, 5,  -14],\n",
    "    [-3, -7,  2]\n",
    "], np.double)\n",
    "\n",
    "print(A)"
   ]
  },
  {
   "cell_type": "code",
   "execution_count": 2,
   "metadata": {},
   "outputs": [
    {
     "name": "stdout",
     "output_type": "stream",
     "text": [
      "计算每列的平均值:\n",
      "[ 0.          0.33333333 -6.33333333]\n"
     ]
    }
   ],
   "source": [
    "# 计算每列的平均值\n",
    "\n",
    "A_mean = A.mean(axis=0)\n",
    "print(\"计算每列的平均值:\")\n",
    "print(A_mean)\n"
   ]
  },
  {
   "cell_type": "code",
   "execution_count": 3,
   "metadata": {},
   "outputs": [
    {
     "name": "stdout",
     "output_type": "stream",
     "text": [
      "计算每列的标准差:\n",
      "[2.1602469  5.24933858 6.5489609 ]\n"
     ]
    }
   ],
   "source": [
    "# 计算每列标准差\n",
    "A_stddev = A.std(axis=0)\n",
    "print(\"计算每列的标准差:\")\n",
    "print(A_stddev)"
   ]
  },
  {
   "cell_type": "code",
   "execution_count": 4,
   "metadata": {},
   "outputs": [
    {
     "name": "stdout",
     "output_type": "stream",
     "text": [
      "每列标准化\n",
      "[[ 0.46291005  0.50800051 -0.10179732]\n",
      " [ 0.9258201   0.88900089 -1.17066918]\n",
      " [-1.38873015 -1.3970014   1.2724665 ]]\n"
     ]
    }
   ],
   "source": [
    "# 每列标准化\n",
    "A_std = np.zeros(A.shape, np.double)\n",
    "for i in range(len(A)):\n",
    "    for j in range(len(A[i])):\n",
    "        A_std[i][j] = (A[i][j] - A_mean[j]) / A_stddev[j]\n",
    "\n",
    "print(\"每列标准化\")\n",
    "print(A_std)"
   ]
  },
  {
   "cell_type": "code",
   "execution_count": 5,
   "metadata": {},
   "outputs": [
    {
     "name": "stdout",
     "output_type": "stream",
     "text": [
      "标准化后的平均值:\n",
      "[ 0.00000000e+00  0.00000000e+00 -7.40148683e-17]\n",
      "协方差矩阵:\n",
      "[[ 1.5         1.4991357  -1.44903232]\n",
      " [ 1.4991357   1.5        -1.43503825]\n",
      " [-1.44903232 -1.43503825  1.5       ]]\n"
     ]
    }
   ],
   "source": [
    "# 计算协方差矩阵\n",
    "\n",
    "# m个采样\n",
    "m = len(A)\n",
    "\n",
    "# n个维度\n",
    "n = len(A[0])\n",
    "\n",
    "A_std_mean = A_std.mean(axis=0)\n",
    "print(\"标准化后的平均值:\")\n",
    "print(A_std_mean)\n",
    "\n",
    "# 构建协方差矩阵\n",
    "Cov_matrix = np.zeros((n, n), np.double)\n",
    "\n",
    "for x1 in range(0, n):\n",
    "    for x2 in range(0, n):\n",
    "        cov = 0\n",
    "        for i in range(0, m):\n",
    "            cov += (A_std[i][x1] - A_std_mean[x1]) * (A_std[i][x2] - A_std_mean[x2])\n",
    "        Cov_matrix[x1][x2] = cov / (m-1)\n",
    "\n",
    "print(\"协方差矩阵:\")\n",
    "print(Cov_matrix)"
   ]
  },
  {
   "cell_type": "markdown",
   "metadata": {},
   "source": [
    "## 答案\n",
    "\n",
    "极客时间 - 程序员基础数学课 - [PCA主成分分析（下）](https://time.geekbang.org/column/article/87337) 里提供的答案"
   ]
  },
  {
   "cell_type": "code",
   "execution_count": 6,
   "metadata": {},
   "outputs": [
    {
     "name": "stdout",
     "output_type": "stream",
     "text": [
      "标准化后的矩阵: \n",
      " [[ 0.46291005  0.50800051 -0.10179732]\n",
      " [ 0.9258201   0.88900089 -1.17066918]\n",
      " [-1.38873015 -1.3970014   1.2724665 ]]\n"
     ]
    }
   ],
   "source": [
    "import numpy as np\n",
    "from numpy import linalg as LA\n",
    "from sklearn.preprocessing import scale\n",
    "\n",
    "# 原始数据，包含了3个样本和3个特征，每一行表示一个样本，每一列表示一维特征\n",
    "x = np.mat([[1,3,-7],[2,5,-14],[-3,-7,2]])\n",
    "\n",
    "# 矩阵按列进行标准化\n",
    "# scale 函数使用了 axis=0，表示对列进行标准化\n",
    "x_s = scale(x, with_mean=True, with_std=True, axis=0)\n",
    "print(\"标准化后的矩阵: \\n\", x_s)"
   ]
  },
  {
   "cell_type": "code",
   "execution_count": 7,
   "metadata": {},
   "outputs": [
    {
     "name": "stdout",
     "output_type": "stream",
     "text": [
      "协方差矩阵：\n",
      " [[ 1.5         1.4991357  -1.44903232]\n",
      " [ 1.4991357   1.5        -1.43503825]\n",
      " [-1.44903232 -1.43503825  1.5       ]] \n",
      "\n"
     ]
    }
   ],
   "source": [
    "# 计算协方差矩阵，注意这里需要先进行转置，因为这里的函数是看行与行之间的协方差\n",
    "x_cov = np.cov(x_s.transpose())\n",
    "# 输出协方差矩阵\n",
    "print(\"协方差矩阵：\\n\", x_cov, \"\\n\")"
   ]
  },
  {
   "cell_type": "code",
   "execution_count": 8,
   "metadata": {},
   "outputs": [
    {
     "name": "stdout",
     "output_type": "stream",
     "text": [
      "协方差矩阵的特征值： [ 4.42231151e+00 -3.76638147e-16  7.76884923e-02]\n",
      "协方差的特征向量（主成分）：\n",
      " [[-0.58077228 -0.74495961  0.3282358 ]\n",
      " [-0.57896098  0.66143044  0.47677453]\n",
      " [ 0.57228292 -0.08686171  0.81544301]] \n",
      "\n"
     ]
    }
   ],
   "source": [
    "# 求协方差矩阵的特征值和特征向量\n",
    "eigVals,eigVects = LA.eig(x_cov)\n",
    "print(\"协方差矩阵的特征值：\", eigVals)\n",
    "print(\"协方差的特征向量（主成分）：\\n\", eigVects, \"\\n\")"
   ]
  },
  {
   "cell_type": "code",
   "execution_count": 18,
   "metadata": {},
   "outputs": [
    {
     "name": "stdout",
     "output_type": "stream",
     "text": [
      "最大的特征值： 4.422311507725755\n",
      "最大特征值所对应的特征向量： [-0.58077228 -0.57896098  0.57228292]\n",
      "变换后的数据矩阵： [-0.62121467 -1.72234145  2.34355612] \n",
      "\n"
     ]
    }
   ],
   "source": [
    "# 找到最大的特征值，及其对应的特征向量\n",
    "max_eigVal = -1\n",
    "max_eigVal_index = -1\n",
    "\n",
    "for i in range(0, eigVals.size):\n",
    "    if (eigVals[i] > max_eigVal):\n",
    "        max_eigVal = eigVals[i]\n",
    "        max_eigVal_index = i\n",
    "\n",
    "    eigVect_with_max_eigVal = eigVects[:,max_eigVal_index]\n",
    "\n",
    "# 输出最大的特征值及其对应的特征向量，也就是第一个主成分\n",
    "print(\"最大的特征值：\", max_eigVal)\n",
    "print(\"最大特征值所对应的特征向量：\", eigVect_with_max_eigVal)\n",
    "\n",
    "# 输出变换后的数据矩阵。注意，这里的三个值是表示三个样本，而特征从3维变为1维了。\n",
    "print(\"变换后的数据矩阵：\", x_s.dot(eigVect_with_max_eigVal), \"\\n\")"
   ]
  },
  {
   "cell_type": "markdown",
   "metadata": {},
   "source": [
    "### 直接利用sklearn的PCA"
   ]
  },
  {
   "cell_type": "code",
   "execution_count": 17,
   "metadata": {},
   "outputs": [
    {
     "name": "stdout",
     "output_type": "stream",
     "text": [
      "方差（特征值）:  [4.42231151 0.07768849]\n",
      "主成分（特征向量） [[-0.58077228 -0.57896098  0.57228292]\n",
      " [ 0.3282358   0.47677453  0.81544301]]\n",
      "变换后的样本矩阵: \n",
      " [[-0.62121467  0.31113544]\n",
      " [-1.72234145 -0.22687371]\n",
      " [ 2.34355612 -0.08426173]]\n",
      "信息量:\n",
      " [0.98273589 0.01726411]\n"
     ]
    }
   ],
   "source": [
    "from sklearn.decomposition import PCA\n",
    "\n",
    "# 挑选前2个主成分\n",
    "pca = PCA(n_components=2)\n",
    "\n",
    "# 进行PCA分析\n",
    "pca.fit(x_s)\n",
    "\n",
    "# 输出变换后的数据矩阵。注意，这里的三个值是表示三个样本，而特征从3维变为1维了。\n",
    "print(\"方差（特征值）: \", pca.explained_variance_)\n",
    "print(\"主成分（特征向量）\", pca.components_)\n",
    "print(\"变换后的样本矩阵: \\n\", pca.transform(x_s))\n",
    "print(\"信息量:\\n\", pca.explained_variance_ratio_)"
   ]
  },
  {
   "cell_type": "markdown",
   "metadata": {},
   "source": [
    "第一个主成分包含了原始样本矩阵中的 98.27% 的信息，而第二个主成分包含了原始样本矩阵中的 1.73% 的信息"
   ]
  }
 ],
 "metadata": {
  "interpreter": {
   "hash": "0d69a086a76f7e20863e6de2695623e8295efcfe999066b45114a493b12990cc"
  },
  "kernelspec": {
   "display_name": "Python 3.9.7 64-bit ('.venv': venv)",
   "name": "python3"
  },
  "language_info": {
   "codemirror_mode": {
    "name": "ipython",
    "version": 3
   },
   "file_extension": ".py",
   "mimetype": "text/x-python",
   "name": "python",
   "nbconvert_exporter": "python",
   "pygments_lexer": "ipython3",
   "version": "3.9.7"
  },
  "orig_nbformat": 4
 },
 "nbformat": 4,
 "nbformat_minor": 2
}
